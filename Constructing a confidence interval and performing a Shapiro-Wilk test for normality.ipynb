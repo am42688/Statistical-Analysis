{
 "cells": [
  {
   "cell_type": "markdown",
   "metadata": {},
   "source": [
    "Ten samples from the Tensleep Sandstone of the Bighorn Basin in Wyoming were collected and analyzed for porosity (%). The results are shown below under the variable \"data.\"\n",
    "\n",
    "Part A- Assuming porosity in the formation is approximately normally distributed, compute a 90% confidence interval for both the mean and variance of the porosity of the sandstone formation. \n"
   ]
  },
  {
   "cell_type": "code",
   "execution_count": null,
   "metadata": {
    "collapsed": true
   },
   "outputs": [],
   "source": [
    "import numpy as np #importing Python libraries used for statistical analysis\n",
    "import scipy as sp\n",
    "import scipy.stats"
   ]
  },
  {
   "cell_type": "code",
   "execution_count": 2,
   "metadata": {
    "collapsed": true
   },
   "outputs": [],
   "source": [
    "data= [13,17,15,23,27,29,18,27,20,24]\n",
    "\n",
    "def mean_confidence_interval(data, confidence=0.90): #creating a function that returns a 90% confidence interval\n",
    "    a = 1.0*np.array(data)\n",
    "    n = len(a)\n",
    "    m, se = np.mean(a), scipy.stats.sem(a) #calculates mean and standard error\n",
    "    h = se * sp.stats.t.ppf((1+confidence)/2., n-1)\n",
    "    return m, m-h, m+h"
   ]
  },
  {
   "cell_type": "code",
   "execution_count": 4,
   "metadata": {},
   "outputs": [
    {
     "data": {
      "text/plain": [
       "(21.300000000000001, 18.100939271806013, 24.499060728193989)"
      ]
     },
     "execution_count": 4,
     "metadata": {},
     "output_type": "execute_result"
    }
   ],
   "source": [
    "mean_confidence_interval(data, confidence=0.90) #calling the function"
   ]
  },
  {
   "cell_type": "markdown",
   "metadata": {},
   "source": [
    "The mean 90% confidence interval is 18.1< u <24.5 "
   ]
  },
  {
   "cell_type": "code",
   "execution_count": 5,
   "metadata": {
    "collapsed": true
   },
   "outputs": [],
   "source": [
    "def var_confidence_interval(data, confidence=0.90): #similarly, creating a function for the variance confidence interval \n",
    "    a = 1.0*np.array(data)\n",
    "    n = len(a)\n",
    "    v, se = np.var(a), scipy.stats.sem(a) #calculates variance and standard error\n",
    "    h = se * sp.stats.t.ppf((1+confidence)/2., n-1)\n",
    "    return v, v-h, v+h"
   ]
  },
  {
   "cell_type": "code",
   "execution_count": 6,
   "metadata": {},
   "outputs": [
    {
     "data": {
      "text/plain": [
       "(27.410000000000004, 24.210939271806012, 30.609060728193995)"
      ]
     },
     "execution_count": 6,
     "metadata": {},
     "output_type": "execute_result"
    }
   ],
   "source": [
    "var_confidence_interval(data, confidence=0.90)"
   ]
  },
  {
   "cell_type": "markdown",
   "metadata": {},
   "source": [
    "The 90% variance confidence interval is 24.2< var < 30.6"
   ]
  },
  {
   "cell_type": "markdown",
   "metadata": {},
   "source": [
    "Part B- Use Shapiro-Wilk test to determine whether the porosity data were drawn from a normally distributed population"
   ]
  },
  {
   "cell_type": "code",
   "execution_count": 10,
   "metadata": {},
   "outputs": [
    {
     "data": {
      "text/plain": [
       "(0.9489189386367798, 0.6557270884513855)"
      ]
     },
     "execution_count": 10,
     "metadata": {},
     "output_type": "execute_result"
    }
   ],
   "source": [
    "#Using Python's Scipy library, performing a Shaprio Wilk test is as simple as using the stats.shapiro built in function\n",
    "#Doing so returns the value of the test statistic, W and the p value\n",
    "\n",
    "sp.stats.shapiro(data)"
   ]
  },
  {
   "cell_type": "markdown",
   "metadata": {},
   "source": [
    "Because the test stastistic is larger than the critical value, we can safely conclude this data was drawn from a normal distribution"
   ]
  },
  {
   "cell_type": "code",
   "execution_count": null,
   "metadata": {
    "collapsed": true
   },
   "outputs": [],
   "source": []
  }
 ],
 "metadata": {
  "kernelspec": {
   "display_name": "Python 3",
   "language": "python",
   "name": "python3"
  },
  "language_info": {
   "codemirror_mode": {
    "name": "ipython",
    "version": 3
   },
   "file_extension": ".py",
   "mimetype": "text/x-python",
   "name": "python",
   "nbconvert_exporter": "python",
   "pygments_lexer": "ipython3",
   "version": "3.6.1"
  }
 },
 "nbformat": 4,
 "nbformat_minor": 2
}
