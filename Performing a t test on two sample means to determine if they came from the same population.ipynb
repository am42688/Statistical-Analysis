{
 "cells": [
  {
   "cell_type": "markdown",
   "metadata": {},
   "source": [
    "The following demonstrates a statistical method for determining if two sample means can be said to have come from the same population. \n",
    "\n",
    "In research published in the summer of 2005, Chinese researchers determined the concentrations of several organochlorine contaminants in male and female adults. One class of contaminants of concern were the alpha isomers of hexachlorocyclohexanes, identified here as α-HCHs. Samples were collected from 16 male and 15 female adults. The results are shown below under the variables datam (males) and dataf (females). Concentration units are ng/g (ppt).\n",
    "\n",
    "Part A- Test the following hypothesis scheme at the 5% level of significance where µm is the true average concentration of α-HCHs in males and µf is the true average concentration in females. Use a one-tailed test in performing your analysis and use the t value as the test statistic. What is the value of the critical value? What is the value of the test statistic based upon sampling data? \n",
    "\n",
    "Ho: µm = µf,    H1: µm > µf"
   ]
  },
  {
   "cell_type": "code",
   "execution_count": 28,
   "metadata": {
    "collapsed": true
   },
   "outputs": [],
   "source": [
    "import numpy as np\n",
    "from scipy import stats as sp"
   ]
  },
  {
   "cell_type": "code",
   "execution_count": 33,
   "metadata": {},
   "outputs": [
    {
     "name": "stdout",
     "output_type": "stream",
     "text": [
      "The values of s1^2, s2^2, n1 and n2 are: 5.00995833333 0.619826666667 16 15\n"
     ]
    }
   ],
   "source": [
    "datam = [1.1,1.9,1.0,1.4,4.4,2.7,1.1,1.3,1.6,4.7,1.0,1.6,4.1,7.6,7.7,3.3]\n",
    "dataf = [.93,.89,.89,.78,1.0,.93,1.4,1.7,1.1,1.9,2.6,2.9,2.4,1.0,2.9]\n",
    "\n",
    "s1 = np.var(datam, ddof=1)\n",
    "s2 = np.var(dataf, ddof=1)\n",
    "n1 = len(datam)\n",
    "n2= len(dataf)\n",
    "\n",
    "print('The values of s1^2, s2^2, n1 and n2 are:', s1, s2, n1, n2)"
   ]
  },
  {
   "cell_type": "code",
   "execution_count": 38,
   "metadata": {},
   "outputs": [
    {
     "name": "stdout",
     "output_type": "stream",
     "text": [
      "The degrees of freedom (nu) is: 19.0834331863\n"
     ]
    }
   ],
   "source": [
    "#Calculating the degrees of freedom, denoted by v \"nu\"\n",
    "nu = ((((s1/n1)+(s2/n2))**2)/(((s1/n1)**2)*(1/(n1-1))+((s2s/n2)**2)*(1/(n2-1))))\n",
    "print('The degrees of freedom (nu) is:', nu)"
   ]
  },
  {
   "cell_type": "code",
   "execution_count": 42,
   "metadata": {},
   "outputs": [
    {
     "name": "stdout",
     "output_type": "stream",
     "text": [
      "1.72913281152\n"
     ]
    }
   ],
   "source": [
    "#Finding the critical value of the t distribution at α=.05, v=19\n",
    "print(sp.t.isf(.05,19))"
   ]
  },
  {
   "cell_type": "code",
   "execution_count": 43,
   "metadata": {},
   "outputs": [
    {
     "name": "stdout",
     "output_type": "stream",
     "text": [
      "Ttest_indResult(statistic=2.27022502614536, pvalue=0.035107644314830447)\n"
     ]
    }
   ],
   "source": [
    "#Running a t test to determine the value of the test statistic and p-value\n",
    "print(sp.ttest_ind(datam, dataf, equal_var = False))"
   ]
  },
  {
   "cell_type": "markdown",
   "metadata": {},
   "source": [
    "2.27 > 1.73, p-value= 3.5%\n",
    "\n",
    "The data falls into the rejection region. Therefore, we reject the null hypothesis that µm = µf.  "
   ]
  },
  {
   "cell_type": "markdown",
   "metadata": {},
   "source": [
    "Part B- Develop a 95% confidence interval for the difference of the population means using a one sided test. "
   ]
  },
  {
   "cell_type": "code",
   "execution_count": 49,
   "metadata": {},
   "outputs": [
    {
     "name": "stdout",
     "output_type": "stream",
     "text": [
      "The 95% confidence interval is: 0.756231190807 < µm - µf < 1.94693547586\n"
     ]
    }
   ],
   "source": [
    "#Solving for the statistic t':\n",
    "tcrit = sp.t.isf(.05,19)\n",
    "diff_means= np.mean(datam)-np.mean(dataf)\n",
    "\n",
    "print('The 95% confidence interval is:', diff_means-(np.sqrt((s1/n1)+(s2/n2))), '< µm - µf <', diff_means+(np.sqrt((s1/n1)+(s2/n2))))"
   ]
  },
  {
   "cell_type": "markdown",
   "metadata": {},
   "source": [
    "The confidence interval provides further evidence that the difference between the two means is not 0, as the 95% confidence interval does not contain 0. "
   ]
  },
  {
   "cell_type": "code",
   "execution_count": null,
   "metadata": {
    "collapsed": true
   },
   "outputs": [],
   "source": []
  }
 ],
 "metadata": {
  "kernelspec": {
   "display_name": "Python 3",
   "language": "python",
   "name": "python3"
  },
  "language_info": {
   "codemirror_mode": {
    "name": "ipython",
    "version": 3
   },
   "file_extension": ".py",
   "mimetype": "text/x-python",
   "name": "python",
   "nbconvert_exporter": "python",
   "pygments_lexer": "ipython3",
   "version": "3.6.1"
  }
 },
 "nbformat": 4,
 "nbformat_minor": 2
}
