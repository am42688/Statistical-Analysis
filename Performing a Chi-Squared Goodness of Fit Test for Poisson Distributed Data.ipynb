{
 "cells": [
  {
   "cell_type": "markdown",
   "metadata": {},
   "source": [
    "The following demonstrates how to conduct a chi-squared goodness of fit test to determine whether a set of data belong to a certain probability distribution, such as a poisson distribution in this example. \n",
    "\n",
    "In this problem we will explore whether discoveries of successful oil wells in a basin occurs randomly. The basin in question is the Eastern Shelf area of the Permian Basin in Fisher and Noland counties in Texas. The basin has been subdivivded into 160 tracts (each tract has an area of approximately 10miles2, though this figure will not be used in this problem). A total of 168 successful wells have been drilled in the 160 tracts. The number of successful wells per tract is shown in the following table:\n",
    "\n",
    "    Successful wells per tract:  0    1    2    3    4    5    6\n",
    "\n",
    "\n",
    "    Number of tracts:           70   42   26   17    3    1    1\n",
    "\n",
    "\n",
    "\n",
    "Part A- Perform a Chi-Squared Goodness of Fit Test to determine, at the 5% level of significance, whether the data could ahve been drawn from a Poisson-distributed population.   "
   ]
  },
  {
   "cell_type": "code",
   "execution_count": 1,
   "metadata": {
    "collapsed": true
   },
   "outputs": [],
   "source": [
    "import numpy as np\n",
    "import scipy.stats as sp"
   ]
  },
  {
   "cell_type": "code",
   "execution_count": 7,
   "metadata": {},
   "outputs": [
    {
     "name": "stdout",
     "output_type": "stream",
     "text": [
      "The expected number of successfull wells per tract is: [ 55.99003986  58.78954185  30.86450947  10.80257832   2.83567681]\n",
      "The observed number of successfull wells per tract is: [ 70.  42.  26.  17.   5.]\n"
     ]
    }
   ],
   "source": [
    "#Calculating the expected values of a poisson distribution of x from 0-6 for n=168\n",
    "#To satisfy the the rule that n>=5 for each bin, we will combine bins 4,5,and 6 reducing # of bins to 5\n",
    "mu = 1.05 #average successful wells per tract\n",
    "x = range(0,5)\n",
    "n = 160\n",
    "\n",
    "Ei = sp.poisson.pmf(x, mu)*n #pmf = probability mass function of the poisson distribution\n",
    "Oi = np.array([70.0,42,26,17,5])\n",
    "\n",
    "print('The expected number of successfull wells per tract is:', Ei)\n",
    "print('The observed number of successfull wells per tract is:', Oi)"
   ]
  },
  {
   "cell_type": "code",
   "execution_count": 8,
   "metadata": {},
   "outputs": [
    {
     "name": "stdout",
     "output_type": "stream",
     "text": [
      "The chi-squared test statistic and p-value are Power_divergenceResult(statistic=14.274537065515833, pvalue=0.0064684810244462019)\n"
     ]
    }
   ],
   "source": [
    "print('The chi-squared test statistic and p-value are', sp.stats.chisquare(Oi, f_exp=Ei))"
   ]
  },
  {
   "cell_type": "code",
   "execution_count": 11,
   "metadata": {},
   "outputs": [
    {
     "name": "stdout",
     "output_type": "stream",
     "text": [
      "The critical value is: 7.81472790325\n"
     ]
    }
   ],
   "source": [
    "crit = sp.chi2.isf(.05,3) #critical value for α=.05, df=5 bins- 1 estimated statistics -1= 3\n",
    "print(\"The critical value is:\", crit)"
   ]
  },
  {
   "cell_type": "markdown",
   "metadata": {},
   "source": [
    "14.27 >  7.81\n",
    "\n",
    "We reject the null hypothesis that the data is Poisson distributed. The p-value is .6%. "
   ]
  },
  {
   "cell_type": "code",
   "execution_count": null,
   "metadata": {
    "collapsed": true
   },
   "outputs": [],
   "source": []
  }
 ],
 "metadata": {
  "kernelspec": {
   "display_name": "Python 3",
   "language": "python",
   "name": "python3"
  },
  "language_info": {
   "codemirror_mode": {
    "name": "ipython",
    "version": 3
   },
   "file_extension": ".py",
   "mimetype": "text/x-python",
   "name": "python",
   "nbconvert_exporter": "python",
   "pygments_lexer": "ipython3",
   "version": "3.6.1"
  }
 },
 "nbformat": 4,
 "nbformat_minor": 2
}
