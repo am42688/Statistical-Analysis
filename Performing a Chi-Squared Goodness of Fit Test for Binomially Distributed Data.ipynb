{
 "cells": [
  {
   "cell_type": "markdown",
   "metadata": {},
   "source": [
    "The following demonstrates how to conduct a chi-squared goodness of fit test to determine whether a set of data belong to a certain probability distribution, such as a binomial distribution in this example. \n",
    "\n",
    "A researcher hypothesized sex determination in human births could be considered a Bernoulli process but suspected that larger families tend to have more male children than females. She collected data from 320 families, each with exactly 5 children, and generated the results shown below:\n",
    "\n",
    "number of male children per family: 0    1    2    3    4    5\n",
    "occurence frequency:                12   42   92   108  46   20\n",
    "\n",
    "Confirm that the total number of male children for the 320 families is 834, with an average number of 2.61 male children per family.\n",
    "\n",
    "Part A- If a success is considered a male child, typically most people consider the probability of success to be 0.5. Determine the expected frequency of occurence of 0,1,2,3,4 and 5 male children for 320 families each with exactly five children, assuming p=0.5. Perform a Chi-Squared Goodness of Fit test to determine if the number of male children in families with five children can be considered binomially distributed with p=0.5. What is the value of the critical value? What is the value of the test statistic based on sampling data? Determine the p-value for the computed test statistic. "
   ]
  },
  {
   "cell_type": "code",
   "execution_count": 1,
   "metadata": {
    "collapsed": true
   },
   "outputs": [],
   "source": [
    "import numpy as np\n",
    "import scipy.stats as sp"
   ]
  },
  {
   "cell_type": "code",
   "execution_count": 43,
   "metadata": {},
   "outputs": [
    {
     "name": "stdout",
     "output_type": "stream",
     "text": [
      "The expected values Ei for 0-5 male children in 320 families with p=0.5 are: [  10.   50.  100.  100.   50.   10.]\n",
      "The observed values Oi for 0-5 male children in 320 families with p=0.5 are: [  12.   42.   92.  108.   46.   20.]\n"
     ]
    }
   ],
   "source": [
    "#Calcuating the expected values of a binomial distribution of x from 0-5 with p=0.5 for n=320\n",
    "x = range(0,6)\n",
    "n = 320\n",
    "C= 5\n",
    "p =.5\n",
    "q= 1-p\n",
    "\n",
    "Ei = sp.binom.pmf(x, C, p)*n #pmf = probability mass function of the binomial distribution\n",
    "Oi = np.array([12.0,42,92,108,46,20])\n",
    "\n",
    "print('The expected values Ei for 0-5 male children in 320 families with p=0.5 are:', Ei)\n",
    "print('The observed values Oi for 0-5 male children in 320 families with p=0.5 are:', Oi)"
   ]
  },
  {
   "cell_type": "code",
   "execution_count": 49,
   "metadata": {},
   "outputs": [
    {
     "name": "stdout",
     "output_type": "stream",
     "text": [
      "The chi-squared test statistic and p-value are Power_divergenceResult(statistic=13.279999999999994, pvalue=0.020891491981912837)\n"
     ]
    }
   ],
   "source": [
    "print('The chi-squared test statistic and p-value are', sp.stats.chisquare(Oi, f_exp=Ei))"
   ]
  },
  {
   "cell_type": "code",
   "execution_count": 62,
   "metadata": {},
   "outputs": [
    {
     "name": "stdout",
     "output_type": "stream",
     "text": [
      "The critical value is: 11.0704976935\n"
     ]
    }
   ],
   "source": [
    "crit = sp.chi2.isf(.05,5) #critical value for α=.05, df=6 bins- 0 estimated statistics -1= 5\n",
    "print(\"The critical value is:\", crit)"
   ]
  },
  {
   "cell_type": "markdown",
   "metadata": {},
   "source": [
    "13.28 > 11.07\n",
    "\n",
    "Because the value of the test statistic is greater than the critical value, we reject the null hypothesis that the data can be considered binomially distributed with p=0.5. The p-value for the computed test statistic is 0.02, which is not significant. "
   ]
  },
  {
   "cell_type": "markdown",
   "metadata": {},
   "source": [
    "Part B - Determine the observed probability of success, p', based upon the researchers data. Similar to part A, perform a Chi-Squared Goodness of Fit test to determine if the number of male children in families with five children can be considered binomially distributed with p = p'. How many sample statistics are you using to estimate population parameters in this part of the problem? What is the value of the critical value? What is the value of the test statistic based on sampling data? Determine the p-value for the computed test statistic. "
   ]
  },
  {
   "cell_type": "markdown",
   "metadata": {},
   "source": [
    " "
   ]
  },
  {
   "cell_type": "code",
   "execution_count": 57,
   "metadata": {},
   "outputs": [
    {
     "name": "stdout",
     "output_type": "stream",
     "text": [
      "The observed probability of success is: 0.52125\n"
     ]
    }
   ],
   "source": [
    "pprime = 834/1600\n",
    "print('The observed probability of success is:',pprime)"
   ]
  },
  {
   "cell_type": "code",
   "execution_count": 59,
   "metadata": {},
   "outputs": [
    {
     "name": "stdout",
     "output_type": "stream",
     "text": [
      "The expected values Ei for 0-5 male children in 320 families with p=pprime are: [   8.04811018   43.81281911   95.40441551  103.87373699   56.54745212\n",
      "   12.31346608]\n",
      "The observed values are the same: [  12.   42.   92.  108.   46.   20.]\n"
     ]
    }
   ],
   "source": [
    "Ei_prime = sp.binom.pmf(x, C, pprime)*n #Calcuated Ei_prime with p'=.52125\n",
    "\n",
    "print('The expected values Ei for 0-5 male children in 320 families with p=pprime are:', Ei_prime)\n",
    "print('The observed values are the same:', Oi)"
   ]
  },
  {
   "cell_type": "code",
   "execution_count": 60,
   "metadata": {},
   "outputs": [
    {
     "name": "stdout",
     "output_type": "stream",
     "text": [
      "The chi-squared test statistic and p-value are Power_divergenceResult(statistic=9.0664906197147275, pvalue=0.10644128017345877)\n"
     ]
    }
   ],
   "source": [
    "print('The chi-squared test statistic and p-value are', sp.stats.chisquare(Oi, f_exp=Ei_prime))"
   ]
  },
  {
   "cell_type": "code",
   "execution_count": 63,
   "metadata": {},
   "outputs": [
    {
     "name": "stdout",
     "output_type": "stream",
     "text": [
      "The critical value is: 9.48772903678\n"
     ]
    }
   ],
   "source": [
    "crit_prime = sp.chi2.isf(.05,4) #critical value for α=.05, df=6 bins- 1 estimated statistic -1= 4\n",
    "print('The critical value is:', crit_prime)"
   ]
  },
  {
   "cell_type": "markdown",
   "metadata": {},
   "source": [
    "9.07 < 9.49\n",
    "\n",
    "The data falls into the acceptance region. With a probability of success of .52125, we can conclude with 90% confidence that the data is binomially distributed. Note the p-value is slightly higher at 10.6%. Also note the nu (degrees of freedom) value here was 4, not 5, as the sample probability of success of .52125 was used to estimate the population probability of success. \n",
    "\n",
    "In summary, with a p=.50, the data fails the Chi-Squared Goodness of fit test for a binomial distribution. However, when the sample p of .5125 is used, the data passes the Chi Squared Goodness of Fit test. The conclusions of the researcher seem reasonable. "
   ]
  },
  {
   "cell_type": "code",
   "execution_count": null,
   "metadata": {
    "collapsed": true
   },
   "outputs": [],
   "source": []
  }
 ],
 "metadata": {
  "kernelspec": {
   "display_name": "Python 3",
   "language": "python",
   "name": "python3"
  },
  "language_info": {
   "codemirror_mode": {
    "name": "ipython",
    "version": 3
   },
   "file_extension": ".py",
   "mimetype": "text/x-python",
   "name": "python",
   "nbconvert_exporter": "python",
   "pygments_lexer": "ipython3",
   "version": "3.6.1"
  }
 },
 "nbformat": 4,
 "nbformat_minor": 2
}
