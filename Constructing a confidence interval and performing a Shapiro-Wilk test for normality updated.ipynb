{
 "cells": [
  {
   "cell_type": "markdown",
   "metadata": {},
   "source": [
    "The following demonstrates the computation of 1-2α confidence intervals for both the mean and variance of a set of data. \n",
    "\n",
    "Ten samples from the Tensleep Sandstone of the Bighorn Basin in Wyoming were collected and analyzed for porosity (%). The results are shown below under the variable \"data.\"\n",
    "\n",
    "Part A- Assuming porosity in the formation is approximately normally distributed, compute a 90% confidence interval for both the mean and variance of the porosity of the sandstone formation. "
   ]
  },
  {
   "cell_type": "code",
   "execution_count": 1,
   "metadata": {
    "collapsed": true
   },
   "outputs": [],
   "source": [
    "import numpy as np\n",
    "import scipy as sp\n",
    "import scipy.stats"
   ]
  },
  {
   "cell_type": "code",
   "execution_count": 7,
   "metadata": {},
   "outputs": [
    {
     "name": "stdout",
     "output_type": "stream",
     "text": [
      "The values of n, xbar, s2, and s are: 10 21.3 30.4555555556 5.51865523072\n"
     ]
    }
   ],
   "source": [
    "data= [13,17,15,23,27,29,18,27,20,24]\n",
    "\n",
    "#defining n, and computing the sample mean and variance\n",
    "n = len(data)\n",
    "xbar = np.mean(data) \n",
    "s2 = np.var(data, ddof=1) #setting the 'delta degress of freedom' to 1 to distinguish between sample vs population variance\n",
    "#i.e. dividing by n or n-1 \n",
    "s = np.sqrt(s2)\n",
    "\n",
    "print('The values of n, xbar, s2, and s are:', n, xbar, s2, s)"
   ]
  },
  {
   "cell_type": "code",
   "execution_count": 11,
   "metadata": {},
   "outputs": [
    {
     "name": "stdout",
     "output_type": "stream",
     "text": [
      "The value of the t statistic for α=.05 with 9 dof is: 1.83311293265\n"
     ]
    }
   ],
   "source": [
    "#Determining a 90% (1-2α) confidence interval for the mean where α=5%\n",
    "#Mean confidence intervals are t-distributed and require finding the value of t alpha where alpha=.05\n",
    "\n",
    "t5 = sp.stats.t.isf(.05,n-1) #Calculates the t value for α=.05, nu= 9, I cross checked this with the class tables\n",
    "print('The value of the t statistic for α=.05 with 9 dof is:', t5)"
   ]
  },
  {
   "cell_type": "code",
   "execution_count": 14,
   "metadata": {},
   "outputs": [
    {
     "name": "stdout",
     "output_type": "stream",
     "text": [
      "The value of the 90% mean confidence interval is: 18.1009392718 < µ < 24.4990607282\n"
     ]
    }
   ],
   "source": [
    "print('The value of the 90% mean confidence interval is:', xbar-t5*(s/np.sqrt(n)), '< µ <', (xbar+t5*(s/np.sqrt(n))))"
   ]
  },
  {
   "cell_type": "code",
   "execution_count": 16,
   "metadata": {},
   "outputs": [
    {
     "name": "stdout",
     "output_type": "stream",
     "text": [
      "The values of the chi2 statistics for α=.05 and α=.95 are: 16.9189776046 3.32511284307\n"
     ]
    }
   ],
   "source": [
    "#Variance confidence intervals are Chi squared distributed\n",
    "#Because Chi squared distribution is aymmetrical, we must compute Chi-squared statistics for both α and 1-α\n",
    "chi5 = sp.stats.chi2.isf(.05,9) #Chi squared value leaving 5% in left tail, nu=9\n",
    "chi95 = sp.stats.chi2.isf(.95,9) #Chi squared value leaving 95% in left tail, nu=9\n",
    "\n",
    "print('The values of the chi2 statistics for α=.05 and α=.95 are:', chi5, chi95) #again, cross checked with class tables"
   ]
  },
  {
   "cell_type": "code",
   "execution_count": 20,
   "metadata": {},
   "outputs": [
    {
     "name": "stdout",
     "output_type": "stream",
     "text": [
      "The 90% variance confidence interval is: 16.2007425274 < s2 < 82.4332926239\n"
     ]
    }
   ],
   "source": [
    "print('The 90% variance confidence interval is:',(s2*9)/chi5,'< s2 <', (s2*9)/chi95)"
   ]
  },
  {
   "cell_type": "markdown",
   "metadata": {},
   "source": [
    "Part B- Use Shapiro-Wilk test to determine whether the porosity data were drawn from a normally distributed population"
   ]
  },
  {
   "cell_type": "code",
   "execution_count": 21,
   "metadata": {},
   "outputs": [
    {
     "data": {
      "text/plain": [
       "(0.9489189386367798, 0.6557270884513855)"
      ]
     },
     "execution_count": 21,
     "metadata": {},
     "output_type": "execute_result"
    }
   ],
   "source": [
    "#Using Python's Scipy library, performing a Shaprio Wilk test is as simple as using the stats.shapiro built in function\n",
    "#Doing so returns the value of the test statistic, W and the p value\n",
    "\n",
    "sp.stats.shapiro(data)"
   ]
  },
  {
   "cell_type": "markdown",
   "metadata": {},
   "source": [
    "Because the test stastistic is larger than the critical value, we can safely conclude this data was drawn from a normal distribution"
   ]
  },
  {
   "cell_type": "code",
   "execution_count": null,
   "metadata": {
    "collapsed": true
   },
   "outputs": [],
   "source": []
  }
 ],
 "metadata": {
  "kernelspec": {
   "display_name": "Python 3",
   "language": "python",
   "name": "python3"
  },
  "language_info": {
   "codemirror_mode": {
    "name": "ipython",
    "version": 3
   },
   "file_extension": ".py",
   "mimetype": "text/x-python",
   "name": "python",
   "nbconvert_exporter": "python",
   "pygments_lexer": "ipython3",
   "version": "3.6.1"
  }
 },
 "nbformat": 4,
 "nbformat_minor": 2
}
